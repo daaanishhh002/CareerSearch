{
 "cells": [
  {
   "cell_type": "code",
   "execution_count": 458,
   "id": "514a781a-2a56-496e-8b7b-80a2aaff2879",
   "metadata": {
    "tags": []
   },
   "outputs": [],
   "source": [
    "import requests\n",
    "from bs4 import BeautifulSoup\n",
    "from tqdm import tqdm\n",
    "import pandas as pd\n",
    "import numpy as np"
   ]
  },
  {
   "cell_type": "code",
   "execution_count": 233,
   "id": "37930f50-86dc-4ff5-b738-2fe3aaf59f34",
   "metadata": {
    "tags": []
   },
   "outputs": [
    {
     "name": "stdout",
     "output_type": "stream",
     "text": [
      "<Response [200]>\n"
     ]
    }
   ],
   "source": [
    "main_url = \"https://www.google.com/about/careers/applications/jobs/results/\"\n",
    "response = requests.get(main_url)\n",
    "print(response)"
   ]
  },
  {
   "cell_type": "code",
   "execution_count": 194,
   "id": "58e38af2-de4e-4b26-bb89-483af4b1cbd2",
   "metadata": {
    "tags": []
   },
   "outputs": [],
   "source": [
    "doc = BeautifulSoup(response.text, \"html.parser\")"
   ]
  },
  {
   "cell_type": "code",
   "execution_count": 195,
   "id": "0563bfec-c6af-4400-959d-f26370d31672",
   "metadata": {
    "tags": []
   },
   "outputs": [
    {
     "name": "stdout",
     "output_type": "stream",
     "text": [
      "Total Job Listings: 2553\n",
      "Total Pages: 128\n"
     ]
    }
   ],
   "source": [
    "job_listings = int(\n",
    "    doc.find(class_='VfPpkd-wZVHld-gruSEe-j4LONd').text[-4:]\n",
    ")\n",
    "print(f'Total Job Listings: {job_listings}')\n",
    "\n",
    "total_pages = job_listings//20 + 1\n",
    "print(f'Total Pages: {total_pages}')"
   ]
  },
  {
   "cell_type": "code",
   "execution_count": 196,
   "id": "ffd987b0-b3e1-4de7-8af3-0390ea4367cb",
   "metadata": {
    "tags": []
   },
   "outputs": [
    {
     "name": "stderr",
     "output_type": "stream",
     "text": [
      "100%|████████████████████████████████████████████████████████████████████████████████| 128/128 [06:29<00:00,  3.04s/it]"
     ]
    },
    {
     "name": "stdout",
     "output_type": "stream",
     "text": [
      "2553\n"
     ]
    },
    {
     "name": "stderr",
     "output_type": "stream",
     "text": [
      "\n"
     ]
    }
   ],
   "source": [
    "rel_urls = []\n",
    "\n",
    "for _ in tqdm(range(1,total_pages+1)):\n",
    "    page_url = f\"https://www.google.com/about/careers/applications/jobs/results/?page={_}\"\n",
    "    response = requests.get(page_url)\n",
    "    doc = BeautifulSoup(response.text, \"html.parser\")\n",
    "    jobs = doc.find_all(class_='lLd3Je')\n",
    "    for job in jobs:\n",
    "        rel_urls.append(\n",
    "            job.find(class_='WpHeLc VfPpkd-mRLv6 VfPpkd-RLmnJb')['href']\n",
    "        )\n",
    "\n",
    "print(len(rel_urls))"
   ]
  },
  {
   "cell_type": "code",
   "execution_count": 429,
   "id": "a8bc4405-7f07-43c1-b3c3-4bfd093af5b3",
   "metadata": {
    "tags": []
   },
   "outputs": [
    {
     "data": {
      "text/plain": [
       "0       84039463755227846-program-manager-data-center-...\n",
       "1       125615186340913862-api-management-engineer?page=1\n",
       "2       132800609181934278-customer-engineer-ai-google...\n",
       "3       106629691430838982-product-manager-forms-of-pa...\n",
       "4       117104680189731526-head-of-games-and-scale-str...\n",
       "                              ...                        \n",
       "2548    108357684817732294-software-developer-iii-site...\n",
       "2549    85317367386514118-senior-software-engineer-chr...\n",
       "2550    102045983952511686-senior-software-engineer-ha...\n",
       "2551    75355036929925830-senior-staff-software-engine...\n",
       "2552    91135340554658502-software-engineer-iii-engine...\n",
       "Length: 2553, dtype: object"
      ]
     },
     "execution_count": 429,
     "metadata": {},
     "output_type": "execute_result"
    }
   ],
   "source": [
    "rel_urls_s = pd.Series(rel_urls).str[13:]\n",
    "rel_urls_s"
   ]
  },
  {
   "cell_type": "code",
   "execution_count": null,
   "id": "d7f8ade0-3e92-42d3-a828-054fd3db53fe",
   "metadata": {
    "tags": []
   },
   "outputs": [
    {
     "name": "stderr",
     "output_type": "stream",
     "text": [
      "Scraping and Creating a Pandas DataFrame:  24%|\u001b[38;2;160;32;240m#########1                             \u001b[0m| 24/102 [01:01<03:37,  2.79s/it]\u001b[0m"
     ]
    }
   ],
   "source": [
    "# scraping job data and collecting in dataframe\n",
    "for _ in tqdm(range(98,200),desc='Scraping and Creating a Pandas DataFrame',colour='#A020F0',ascii=True):\n",
    "\n",
    "    job_url = main_url + rel_urls_s[_]\n",
    "    response = requests.get(job_url)\n",
    "    doc = BeautifulSoup(response.text,'html.parser')\n",
    "    \n",
    "    # lists for temp dataframe\n",
    "    org = []; jbt = []; loc = []; exp = []; rmt = [];\n",
    "    mnq = []; pfq = []; jbd = []; rsp = []; url = [];\n",
    "    \n",
    "    # dictionary for temp dataframe\n",
    "    dct = {\n",
    "        'Job Title':jbt,\n",
    "        'Organisation':org,\n",
    "        'Location':loc,\n",
    "        'Experience':exp,\n",
    "        'Remote Work':rmt,\n",
    "        'Minimum Qualification':mnq,\n",
    "        'Preferred Qualification':pfq,\n",
    "        'Job Description':jbd,\n",
    "        'Responsibilities':rsp,\n",
    "        'URL':url\n",
    "    }\n",
    "\n",
    "    # job title\n",
    "    jbt.append(doc.find(class_='p1N2lc').text)\n",
    "    # organisation\n",
    "    org.append(doc.find(class_='RP7SMd').span.text)\n",
    "    # location\n",
    "    loc.append(doc.find(class_='r0wTof').text)\n",
    "    # experience\n",
    "    try:\n",
    "        exp.append(doc.find(class_='wVSTAb').text)\n",
    "    except AttributeError as e:\n",
    "        exp.append(doc.find_all(class_='RP7SMd')[-1].span.text)\n",
    "    # remote eligibility\n",
    "    if len(doc.find_all(class_='RP7SMd')) != 1:\n",
    "        if doc.find_all(class_='RP7SMd')[1].span.text.lower() == 'remote eligible':\n",
    "            rmt.append(True)\n",
    "        else:\n",
    "            rmt.append(False)\n",
    "    else:\n",
    "        rmt.append(False)\n",
    "    # minimum qualification\n",
    "    try:\n",
    "        mnq.append(doc.find(class_='KwJkGe').find_all('ul')[0].text.replace('\\n',''))\n",
    "    except IndexError:\n",
    "        mnq.append(np.nan)\n",
    "        pass\n",
    "    except AttributeError:\n",
    "        mnq.append(np.nan)\n",
    "        pass\n",
    "    # preferred qualification\n",
    "    try:\n",
    "        pfq.append(doc.find(class_='KwJkGe').find_all('ul')[1].text.replace('\\n',''))\n",
    "    except IndexError:\n",
    "        pfq.append(np.nan)\n",
    "        pass\n",
    "    except AttributeError:\n",
    "        pfq.append(np.nan)\n",
    "        pass\n",
    "    # job description\n",
    "    jbd.append(doc.find(class_='aG5W3').text.replace('\\n','')[13:])\n",
    "    # responsilibities\n",
    "    try:\n",
    "        rsp.append(doc.find(class_='BDNOWe').text[16:].replace('\\n',''))\n",
    "    except AttributeError:\n",
    "        rsp.append(np.nan)\n",
    "        pass\n",
    "    # job url\n",
    "    url.append(job_url)\n",
    "    \n",
    "    # creating a temp dataframe\n",
    "    col_names = ['Job Title','Organisation','Location','Experience','Remote Work',\n",
    "             'Minimum Qualification','Preferred Qualification',\n",
    "             'Job Description','Responsibilities','URL']\n",
    "    \n",
    "    temp = pd.DataFrame(data=dct,columns=col_names)\n",
    "    \n",
    "    # appending entries into dataframe\n",
    "    google_jobs_df = pd.concat([google_jobs_df,temp])\n",
    "    google_jobs_df = google_jobs_df.reset_index().drop(columns='index')"
   ]
  },
  {
   "cell_type": "code",
   "execution_count": 644,
   "id": "d47f5248-39bf-41cb-9e69-bc3223c899cc",
   "metadata": {
    "collapsed": true,
    "jupyter": {
     "outputs_hidden": true
    },
    "tags": []
   },
   "outputs": [
    {
     "data": {
      "text/html": [
       "<div>\n",
       "<style scoped>\n",
       "    .dataframe tbody tr th:only-of-type {\n",
       "        vertical-align: middle;\n",
       "    }\n",
       "\n",
       "    .dataframe tbody tr th {\n",
       "        vertical-align: top;\n",
       "    }\n",
       "\n",
       "    .dataframe thead th {\n",
       "        text-align: right;\n",
       "    }\n",
       "</style>\n",
       "<table border=\"1\" class=\"dataframe\">\n",
       "  <thead>\n",
       "    <tr style=\"text-align: right;\">\n",
       "      <th></th>\n",
       "      <th>Job Title</th>\n",
       "      <th>Organisation</th>\n",
       "      <th>Location</th>\n",
       "      <th>Experience</th>\n",
       "      <th>Remote Work</th>\n",
       "      <th>Minimum Qualification</th>\n",
       "      <th>Preferred Qualification</th>\n",
       "      <th>Job Description</th>\n",
       "      <th>Responsibilities</th>\n",
       "      <th>URL</th>\n",
       "    </tr>\n",
       "  </thead>\n",
       "  <tbody>\n",
       "    <tr>\n",
       "      <th>0</th>\n",
       "      <td>Program Manager, Data Center Environmental, He...</td>\n",
       "      <td>Google</td>\n",
       "      <td>London, UK</td>\n",
       "      <td>Mid</td>\n",
       "      <td>NaN</td>\n",
       "      <td>Bachelor's degree in Occupational Health and S...</td>\n",
       "      <td>Credentials from Board of Certified Safety Pro...</td>\n",
       "      <td>A problem isn’t truly solved until it’s solved...</td>\n",
       "      <td>Lead the development and ownership of the EHS ...</td>\n",
       "      <td>https://www.google.com/about/careers/applicati...</td>\n",
       "    </tr>\n",
       "    <tr>\n",
       "      <th>1</th>\n",
       "      <td>API Management Engineer</td>\n",
       "      <td>Google</td>\n",
       "      <td>London, UK</td>\n",
       "      <td>Mid</td>\n",
       "      <td>NaN</td>\n",
       "      <td>Bachelor's degree in Computer Science, Mathema...</td>\n",
       "      <td>Experience in implementing API Security and Th...</td>\n",
       "      <td>The Google Cloud Platform team helps customers...</td>\n",
       "      <td>Work closely with customers on their API progr...</td>\n",
       "      <td>https://www.google.com/about/careers/applicati...</td>\n",
       "    </tr>\n",
       "    <tr>\n",
       "      <th>2</th>\n",
       "      <td>Customer Engineer, AI, Google Cloud</td>\n",
       "      <td>Google</td>\n",
       "      <td>London, UK</td>\n",
       "      <td>Mid</td>\n",
       "      <td>NaN</td>\n",
       "      <td>Bachelor's degree or equivalent practical expe...</td>\n",
       "      <td>Master's degree in Computer Science, or a rela...</td>\n",
       "      <td>When leading companies choose Google Cloud, it...</td>\n",
       "      <td>Build partner specific, go-to-market solutions...</td>\n",
       "      <td>https://www.google.com/about/careers/applicati...</td>\n",
       "    </tr>\n",
       "    <tr>\n",
       "      <th>3</th>\n",
       "      <td>Product Manager, Forms of Payment Platform, Go...</td>\n",
       "      <td>Google</td>\n",
       "      <td>London, UK</td>\n",
       "      <td>Mid</td>\n",
       "      <td>NaN</td>\n",
       "      <td>Bachelor's degree or equivalent practical expe...</td>\n",
       "      <td>Master's degree or PhD in a Technical field.Ex...</td>\n",
       "      <td>At Google, we put our users first. The world i...</td>\n",
       "      <td>Partner closely with engineering to define fut...</td>\n",
       "      <td>https://www.google.com/about/careers/applicati...</td>\n",
       "    </tr>\n",
       "    <tr>\n",
       "      <th>4</th>\n",
       "      <td>Head of Games and Scale, Strategy and Operations</td>\n",
       "      <td>Google</td>\n",
       "      <td>London, UK</td>\n",
       "      <td>Advanced</td>\n",
       "      <td>NaN</td>\n",
       "      <td>Bachelor's degree or equivalent practical expe...</td>\n",
       "      <td>Experience operating within and leading cross-...</td>\n",
       "      <td>The Play Partnerships team works with the deve...</td>\n",
       "      <td>Manage, lead, and develop a team to drive glob...</td>\n",
       "      <td>https://www.google.com/about/careers/applicati...</td>\n",
       "    </tr>\n",
       "    <tr>\n",
       "      <th>...</th>\n",
       "      <td>...</td>\n",
       "      <td>...</td>\n",
       "      <td>...</td>\n",
       "      <td>...</td>\n",
       "      <td>...</td>\n",
       "      <td>...</td>\n",
       "      <td>...</td>\n",
       "      <td>...</td>\n",
       "      <td>...</td>\n",
       "      <td>...</td>\n",
       "    </tr>\n",
       "    <tr>\n",
       "      <th>99</th>\n",
       "      <td>Site Lead, Data Center Operations</td>\n",
       "      <td>Google</td>\n",
       "      <td>Fremont, CA, USA</td>\n",
       "      <td>Advanced</td>\n",
       "      <td>False</td>\n",
       "      <td>Bachelor's degree in a technical field or equi...</td>\n",
       "      <td>Experience working in data center environments...</td>\n",
       "      <td>Google isn't just a software company. The Hard...</td>\n",
       "      <td>Lead a team of individuals, set and communicat...</td>\n",
       "      <td>https://www.google.com/about/careers/applicati...</td>\n",
       "    </tr>\n",
       "    <tr>\n",
       "      <th>100</th>\n",
       "      <td>Critical Incident Manager, Cloud</td>\n",
       "      <td>Google</td>\n",
       "      <td>Fremont, CA, USA</td>\n",
       "      <td>Mid</td>\n",
       "      <td>False</td>\n",
       "      <td>Bachelor's degree or equivalent practical expe...</td>\n",
       "      <td>Certification in program management.Experience...</td>\n",
       "      <td>A problem isn’t truly solved until it’s solved...</td>\n",
       "      <td>Act as the primary point of contact for key st...</td>\n",
       "      <td>https://www.google.com/about/careers/applicati...</td>\n",
       "    </tr>\n",
       "    <tr>\n",
       "      <th>101</th>\n",
       "      <td>Chief of Staff, YouTube Business</td>\n",
       "      <td>YouTube</td>\n",
       "      <td>Fremont, CA, USA</td>\n",
       "      <td>Mid</td>\n",
       "      <td>False</td>\n",
       "      <td>Bachelor's degree or equivalent practical expe...</td>\n",
       "      <td>MBA or Master's degree in a technical, quantit...</td>\n",
       "      <td>As the Chief of Staff Team for YouTube’s Chief...</td>\n",
       "      <td>Set strategic priorities for the YouTube Busin...</td>\n",
       "      <td>https://www.google.com/about/careers/applicati...</td>\n",
       "    </tr>\n",
       "    <tr>\n",
       "      <th>102</th>\n",
       "      <td>Open Career Opportunities, Verily Life Sciences</td>\n",
       "      <td>Verily Life Sciences</td>\n",
       "      <td>Fremont, CA, USA</td>\n",
       "      <td>Verily Life Sciences</td>\n",
       "      <td>False</td>\n",
       "      <td>NaN</td>\n",
       "      <td>NaN</td>\n",
       "      <td>Verily, an Alphabet company, lives at the inte...</td>\n",
       "      <td>NaN</td>\n",
       "      <td>https://www.google.com/about/careers/applicati...</td>\n",
       "    </tr>\n",
       "    <tr>\n",
       "      <th>103</th>\n",
       "      <td>Open Career Opportunities, Verily Life Sciences</td>\n",
       "      <td>Verily Life Sciences</td>\n",
       "      <td>Fremont, CA, USA</td>\n",
       "      <td>Verily Life Sciences</td>\n",
       "      <td>False</td>\n",
       "      <td>NaN</td>\n",
       "      <td>NaN</td>\n",
       "      <td>Verily, an Alphabet company, lives at the inte...</td>\n",
       "      <td>NaN</td>\n",
       "      <td>https://www.google.com/about/careers/applicati...</td>\n",
       "    </tr>\n",
       "  </tbody>\n",
       "</table>\n",
       "<p>104 rows × 10 columns</p>\n",
       "</div>"
      ],
      "text/plain": [
       "                                             Job Title          Organisation  \\\n",
       "0    Program Manager, Data Center Environmental, He...                Google   \n",
       "1                              API Management Engineer                Google   \n",
       "2                  Customer Engineer, AI, Google Cloud                Google   \n",
       "3    Product Manager, Forms of Payment Platform, Go...                Google   \n",
       "4     Head of Games and Scale, Strategy and Operations                Google   \n",
       "..                                                 ...                   ...   \n",
       "99                   Site Lead, Data Center Operations                Google   \n",
       "100                   Critical Incident Manager, Cloud                Google   \n",
       "101                   Chief of Staff, YouTube Business               YouTube   \n",
       "102    Open Career Opportunities, Verily Life Sciences  Verily Life Sciences   \n",
       "103    Open Career Opportunities, Verily Life Sciences  Verily Life Sciences   \n",
       "\n",
       "             Location            Experience Remote Work  \\\n",
       "0          London, UK                   Mid         NaN   \n",
       "1          London, UK                   Mid         NaN   \n",
       "2          London, UK                   Mid         NaN   \n",
       "3          London, UK                   Mid         NaN   \n",
       "4          London, UK              Advanced         NaN   \n",
       "..                ...                   ...         ...   \n",
       "99   Fremont, CA, USA              Advanced       False   \n",
       "100  Fremont, CA, USA                   Mid       False   \n",
       "101  Fremont, CA, USA                   Mid       False   \n",
       "102  Fremont, CA, USA  Verily Life Sciences       False   \n",
       "103  Fremont, CA, USA  Verily Life Sciences       False   \n",
       "\n",
       "                                 Minimum Qualification  \\\n",
       "0    Bachelor's degree in Occupational Health and S...   \n",
       "1    Bachelor's degree in Computer Science, Mathema...   \n",
       "2    Bachelor's degree or equivalent practical expe...   \n",
       "3    Bachelor's degree or equivalent practical expe...   \n",
       "4    Bachelor's degree or equivalent practical expe...   \n",
       "..                                                 ...   \n",
       "99   Bachelor's degree in a technical field or equi...   \n",
       "100  Bachelor's degree or equivalent practical expe...   \n",
       "101  Bachelor's degree or equivalent practical expe...   \n",
       "102                                                NaN   \n",
       "103                                                NaN   \n",
       "\n",
       "                               Preferred Qualification  \\\n",
       "0    Credentials from Board of Certified Safety Pro...   \n",
       "1    Experience in implementing API Security and Th...   \n",
       "2    Master's degree in Computer Science, or a rela...   \n",
       "3    Master's degree or PhD in a Technical field.Ex...   \n",
       "4    Experience operating within and leading cross-...   \n",
       "..                                                 ...   \n",
       "99   Experience working in data center environments...   \n",
       "100  Certification in program management.Experience...   \n",
       "101  MBA or Master's degree in a technical, quantit...   \n",
       "102                                                NaN   \n",
       "103                                                NaN   \n",
       "\n",
       "                                       Job Description  \\\n",
       "0    A problem isn’t truly solved until it’s solved...   \n",
       "1    The Google Cloud Platform team helps customers...   \n",
       "2    When leading companies choose Google Cloud, it...   \n",
       "3    At Google, we put our users first. The world i...   \n",
       "4    The Play Partnerships team works with the deve...   \n",
       "..                                                 ...   \n",
       "99   Google isn't just a software company. The Hard...   \n",
       "100  A problem isn’t truly solved until it’s solved...   \n",
       "101  As the Chief of Staff Team for YouTube’s Chief...   \n",
       "102  Verily, an Alphabet company, lives at the inte...   \n",
       "103  Verily, an Alphabet company, lives at the inte...   \n",
       "\n",
       "                                      Responsibilities  \\\n",
       "0    Lead the development and ownership of the EHS ...   \n",
       "1    Work closely with customers on their API progr...   \n",
       "2    Build partner specific, go-to-market solutions...   \n",
       "3    Partner closely with engineering to define fut...   \n",
       "4    Manage, lead, and develop a team to drive glob...   \n",
       "..                                                 ...   \n",
       "99   Lead a team of individuals, set and communicat...   \n",
       "100  Act as the primary point of contact for key st...   \n",
       "101  Set strategic priorities for the YouTube Busin...   \n",
       "102                                                NaN   \n",
       "103                                                NaN   \n",
       "\n",
       "                                                   URL  \n",
       "0    https://www.google.com/about/careers/applicati...  \n",
       "1    https://www.google.com/about/careers/applicati...  \n",
       "2    https://www.google.com/about/careers/applicati...  \n",
       "3    https://www.google.com/about/careers/applicati...  \n",
       "4    https://www.google.com/about/careers/applicati...  \n",
       "..                                                 ...  \n",
       "99   https://www.google.com/about/careers/applicati...  \n",
       "100  https://www.google.com/about/careers/applicati...  \n",
       "101  https://www.google.com/about/careers/applicati...  \n",
       "102  https://www.google.com/about/careers/applicati...  \n",
       "103  https://www.google.com/about/careers/applicati...  \n",
       "\n",
       "[104 rows x 10 columns]"
      ]
     },
     "execution_count": 644,
     "metadata": {},
     "output_type": "execute_result"
    }
   ],
   "source": [
    "google_jobs_df"
   ]
  },
  {
   "cell_type": "code",
   "execution_count": 685,
   "id": "677a85d7-36a6-4e4c-a130-d7371c924017",
   "metadata": {
    "collapsed": true,
    "jupyter": {
     "outputs_hidden": true
    },
    "tags": []
   },
   "outputs": [
    {
     "data": {
      "text/plain": [
       "(['Legal Operations Specialist, YouTube'],\n",
       " ['YouTube'],\n",
       " ['Fremont, CA, USA'],\n",
       " ['Early'],\n",
       " [False],\n",
       " [\"Bachelor's degree or equivalent practical experience.1 year of experience working in law, policy, legal regulation, project management, or operations.\",\n",
       "  nan],\n",
       " ['2 years of experience in content moderation, law, policy, operations, or a related field.Experience working in internet technologies and related policy, and regulatory environments.Ability to communicate in English and another local Asian language (e.g Hindi, Mandarin, Cantonese, Vietnamese, Bahasa Indonesia, Malay, or Japanese) fluently to work with key regional partners across APAC.Excellent communication, people management, presentation, and project management skills.',\n",
       "  nan],\n",
       " [\"Our Legal team needs more than attorneys to keep things moving. Our Legal Operations team is charged with improving and maintaining the Legal team's internal processes, systems and tools. Responsible for tracking objectives, coordinating financial planning and solving technology challenges, you are entrepreneurial, proactive and highly organized. You keep costs down, engage third-party vendors and make the Legal team's services better, faster and more efficient.20th century laws don't always solve 21st century problems, and Google Legal crafts innovative approaches for working with some of the toughest legal challenges of the information age. Whether you're a patent attorney, an intellectual property expert or an engineer headed to law school, Google Legal lets you address unanswered legal quandaries and create new precedents. Our innovative services raise challenging questions that demand creative and practical answers. We provide those answers by working at the crossroads of the law and new technology, helping Google build innovative and important products for users around the world.\"],\n",
       " [\"Respond to internal and external customer inquiries regarding YouTube's legal removals processes, and work within a team to identify and improve processes, operational quality and scalability.Assist in developing internal and external educational materials, and designing new workflows to support the strategic directions of the business.Review graphic, controversial and sometimes offensive video content.Be available for occasional remunerated on-call coverage during the weekend.Process removal requests efficiently and accurately, including trademark issues, privacy issues, defamation issues, court orders, law enforcement requests and requests from government agencies.\",\n",
       "  nan],\n",
       " ['https://www.google.com/about/careers/applications/jobs/results/102822527192965830-legal-operations-specialist-youtube?page=5'])"
      ]
     },
     "execution_count": 685,
     "metadata": {},
     "output_type": "execute_result"
    }
   ],
   "source": [
    "jbt,org,loc,exp,rmt,mnq,pfq,jbd,rsp,url"
   ]
  },
  {
   "cell_type": "code",
   "execution_count": 693,
   "id": "5eb9fe48-91d3-4716-b024-666ac25581a0",
   "metadata": {
    "tags": []
   },
   "outputs": [
    {
     "data": {
      "text/plain": [
       "'https://www.google.com/about/careers/applications/jobs/results/124491726204084934-open-engineering-career-opportunities-capitalg-portfolio-companies?page=5'"
      ]
     },
     "execution_count": 693,
     "metadata": {},
     "output_type": "execute_result"
    }
   ],
   "source": [
    "job_url"
   ]
  },
  {
   "cell_type": "code",
   "execution_count": null,
   "id": "d3821d5b-c29a-4b72-92fb-52c992daa831",
   "metadata": {},
   "outputs": [],
   "source": []
  },
  {
   "cell_type": "code",
   "execution_count": null,
   "id": "13ca8536-4f2b-4b70-9ccb-0b6a18de8ae1",
   "metadata": {},
   "outputs": [],
   "source": []
  },
  {
   "cell_type": "code",
   "execution_count": null,
   "id": "f2e410e7-189d-47aa-92be-2f4acb2e551e",
   "metadata": {},
   "outputs": [],
   "source": []
  },
  {
   "cell_type": "code",
   "execution_count": null,
   "id": "f458d81e-9dd6-4cf5-b504-e5aa0ba224f1",
   "metadata": {},
   "outputs": [],
   "source": []
  },
  {
   "cell_type": "code",
   "execution_count": null,
   "id": "591f1cb5-db1b-41dd-99c9-f1611f540975",
   "metadata": {},
   "outputs": [],
   "source": []
  },
  {
   "cell_type": "code",
   "execution_count": null,
   "id": "1bb70496-569f-402f-b034-1a49518bc42f",
   "metadata": {},
   "outputs": [],
   "source": []
  },
  {
   "cell_type": "code",
   "execution_count": null,
   "id": "407018df-c400-4440-9179-dceb8a841fd0",
   "metadata": {},
   "outputs": [],
   "source": []
  },
  {
   "cell_type": "code",
   "execution_count": null,
   "id": "32323b98-89a7-45d0-ba62-f1cca731975c",
   "metadata": {},
   "outputs": [],
   "source": []
  },
  {
   "cell_type": "code",
   "execution_count": null,
   "id": "b08ebdf1-06bf-4fa9-abe7-386c79b7f2c4",
   "metadata": {},
   "outputs": [],
   "source": []
  },
  {
   "cell_type": "code",
   "execution_count": null,
   "id": "81303cc3-40f8-4895-8121-8d9e8a51482d",
   "metadata": {},
   "outputs": [],
   "source": []
  },
  {
   "cell_type": "code",
   "execution_count": null,
   "id": "c46390c3-4198-4c1d-8e57-69ac9199a3f0",
   "metadata": {},
   "outputs": [],
   "source": []
  },
  {
   "cell_type": "code",
   "execution_count": null,
   "id": "6007523f-2e22-4010-a704-44fea91118bb",
   "metadata": {},
   "outputs": [],
   "source": []
  },
  {
   "cell_type": "code",
   "execution_count": null,
   "id": "e741b1a0-3160-4d4c-9d5c-08400377a723",
   "metadata": {},
   "outputs": [],
   "source": []
  },
  {
   "cell_type": "code",
   "execution_count": 253,
   "id": "da3d7e02-fa51-4f4c-96ab-3a95ef492306",
   "metadata": {
    "tags": []
   },
   "outputs": [
    {
     "data": {
      "text/plain": [
       "'https://www.google.com/about/careers/applications/jobs/results/140130980726743750-senior-director-gsrs-resilience-and-risk-foresight?page=2'"
      ]
     },
     "execution_count": 253,
     "metadata": {},
     "output_type": "execute_result"
    }
   ],
   "source": [
    "job_url = main_url + rel_urls_s[21]\n",
    "job_url"
   ]
  },
  {
   "cell_type": "code",
   "execution_count": 255,
   "id": "18e69313-eeb9-483e-b923-af302c87f1bb",
   "metadata": {
    "tags": []
   },
   "outputs": [
    {
     "name": "stdout",
     "output_type": "stream",
     "text": [
      "<Response [200]>\n"
     ]
    }
   ],
   "source": [
    "response = requests.get(job_url)\n",
    "print(response)\n",
    "doc = BeautifulSoup(response.text,'html.parser')"
   ]
  },
  {
   "cell_type": "code",
   "execution_count": 408,
   "id": "df99c9ea-a0a7-4a1b-b7b8-29dc3be4b56b",
   "metadata": {
    "tags": []
   },
   "outputs": [
    {
     "data": {
      "text/plain": [
       "'Overnight Principal Incident Response Consultant, Mandiant, Google Cloud'"
      ]
     },
     "execution_count": 408,
     "metadata": {},
     "output_type": "execute_result"
    }
   ],
   "source": [
    "job_title = doc.find(class_='p1N2lc').text\n",
    "job_title"
   ]
  },
  {
   "cell_type": "code",
   "execution_count": 410,
   "id": "f1235587-247a-4ce3-bab3-01fa003986ae",
   "metadata": {
    "tags": []
   },
   "outputs": [
    {
     "data": {
      "text/plain": [
       "'Google'"
      ]
     },
     "execution_count": 410,
     "metadata": {},
     "output_type": "execute_result"
    }
   ],
   "source": [
    "org_name = doc.find(class_='RP7SMd').span.text\n",
    "org_name"
   ]
  },
  {
   "cell_type": "code",
   "execution_count": 412,
   "id": "b0a2d139-0ab9-4238-849b-58ac26890f09",
   "metadata": {
    "tags": []
   },
   "outputs": [
    {
     "data": {
      "text/plain": [
       "'London, UK'"
      ]
     },
     "execution_count": 412,
     "metadata": {},
     "output_type": "execute_result"
    }
   ],
   "source": [
    "location = doc.find(class_='r0wTof').text\n",
    "location"
   ]
  },
  {
   "cell_type": "markdown",
   "id": "26854849-39dd-4571-98fd-5dc900b3577c",
   "metadata": {
    "tags": []
   },
   "source": [
    "```\n",
    "experience = doc.find(class_='wVSTAb').text  \n",
    "experience\n",
    "```"
   ]
  },
  {
   "cell_type": "code",
   "execution_count": 415,
   "id": "9791a3c1-e280-441b-9e53-375fa7608f04",
   "metadata": {
    "tags": []
   },
   "outputs": [
    {
     "data": {
      "text/plain": [
       "'Advanced'"
      ]
     },
     "execution_count": 415,
     "metadata": {},
     "output_type": "execute_result"
    }
   ],
   "source": [
    "try:\n",
    "    experience = doc.find(class_='wVSTAb').text\n",
    "except AttributeError as e:\n",
    "    experience = doc.find_all(class_='RP7SMd')[-1].span.text\n",
    "    \n",
    "experience"
   ]
  },
  {
   "cell_type": "code",
   "execution_count": 417,
   "id": "2a2d0738-5f2c-4e6f-8fee-31ab5ec169ce",
   "metadata": {
    "tags": []
   },
   "outputs": [
    {
     "data": {
      "text/plain": [
       "\"Bachelor's degree in Computer Science, Information Systems, Cybersecurity, a related technical field, or equivalent practical experience.6 years of experience working with incident response investigations, analysis, and containment actions.6 years of experience with network forensics, malware triage analysis, cloud forensics, and disk and memory forensics.Ability to work non-standard hours and differing rotations/shifts.\""
      ]
     },
     "execution_count": 417,
     "metadata": {},
     "output_type": "execute_result"
    }
   ],
   "source": [
    "min_qual = doc.find(class_='KwJkGe').find_all('ul')[0].text.replace('\\n','')\n",
    "min_qual"
   ]
  },
  {
   "cell_type": "code",
   "execution_count": 419,
   "id": "ef7bc462-c369-4b02-b441-493e024f8d57",
   "metadata": {
    "tags": []
   },
   "outputs": [
    {
     "data": {
      "text/plain": [
       "'Certification in Google Cloud Platforms (GCP).Experience with Windows, MacOS, Linux operating system and memory forensics.Experience working in fast-moving and changing environments, with the ability to present written or verbal information to technical and non-technical audiences.Knowledge of tools used in pen testing, security event analysis, incident response, computer forensics, network and endpoint architecture, or other security operational areas.Ability to set and manage expectations with executive stakeholders and team members and prioritize, execute and pivot to other tasks with little warning.Excellent problem-solving, troubleshooting, and analysis skills.'"
      ]
     },
     "execution_count": 419,
     "metadata": {},
     "output_type": "execute_result"
    }
   ],
   "source": [
    "pref_qual= doc.find(class_='KwJkGe').find_all('ul')[1].text.replace('\\n','')\n",
    "pref_qual"
   ]
  },
  {
   "cell_type": "code",
   "execution_count": 421,
   "id": "61e7d830-1dfa-4474-8f06-0cfea70b0225",
   "metadata": {
    "tags": []
   },
   "outputs": [
    {
     "data": {
      "text/plain": [
       "'As a Security Consultant, you will be responsible for helping clients effectively prepare for, proactively mitigate, and detect and respond to cyber security threats. Security Consultants have an understanding of computer science, operating system functionality and networking, cloud services, corporate network environments and how to apply this knowledge to cyber security threats.  As a Security Consultant, you could work on engagements including assisting clients in navigating technically complex and high-profile incidents, performing forensic analysis, threat hunting, and malware triage. You may also test client networks, applications and devices by emulating the latest techniques to help them defend against threats, and will be the technical advocate for information security requirements and provide an in-depth understanding of the information security domain. You will also articulate and present complex concepts to business stakeholders, executive leadership, and technical contributors and successfully lead complex engagements alongside cross functional teams.In this role, you will resolve security incidents quickly, effectively, and at scale with complete incident response including investigation, containment, remediation, and crisis management. You will understand existing and emerging threat actors, and identify rapidly changing tools, tactics, and procedures of attackers. You will understand evolving attacker behavior and motivations, participate and manage large client-facing projects, and train and mentor other security consultants.Part of Google Cloud, Mandiant is a recognized leader in dynamic cyber defense, threat intelligence and incident response services. By scaling decades of frontline experience, Mandiant helps organizations to be confident in their readiness to defend against and respond to cyber threats.The US base salary range for this full-time position is $161,000-$241,000 + bonus + equity + benefits. Our salary ranges are determined by role, level, and location. The range displayed on each job posting reflects the minimum and maximum target salaries for the position across all US locations. Within the range, individual pay is determined by work location and additional factors, including job-related skills, experience, and relevant education or training. Your recruiter can share more about the specific salary range for your preferred location during the hiring process.Please note that the compensation details listed in US role postings reflect the base salary only, and do not include bonus, equity, or benefits. Learn more about benefits at Google.'"
      ]
     },
     "execution_count": 421,
     "metadata": {},
     "output_type": "execute_result"
    }
   ],
   "source": [
    "about_job = doc.find(class_='aG5W3').text.replace('\\n','')[13:]\n",
    "about_job"
   ]
  },
  {
   "cell_type": "code",
   "execution_count": 427,
   "id": "900be3a4-6d22-4347-800d-e1c60752a0aa",
   "metadata": {
    "tags": []
   },
   "outputs": [
    {
     "data": {
      "text/plain": [
       "'Lead\\xa0large, client-facing incident response engagements, examine cloud, endpoint, and network-based sources of evidence.Recognize and codify attacker Tools, Tactics, and Procedures (TTPs) and Indicators of Compromise (IOCs) that can be applied to current and future investigations.Build scripts, tools, or methodologies to enhance Mandiant’s incident investigation processes.Develop and present comprehensive and accurate reports, training, and presentations for both technical and executive audiences.Conduct host forensics, network forensics, log analysis, and malware triage in support of incident response investigations.'"
      ]
     },
     "execution_count": 427,
     "metadata": {},
     "output_type": "execute_result"
    }
   ],
   "source": [
    "resp = doc.find(class_='BDNOWe').text[16:].replace('\\n','')\n",
    "resp"
   ]
  },
  {
   "cell_type": "code",
   "execution_count": 404,
   "id": "5060a0ca-d74f-4350-b358-d927e9c03795",
   "metadata": {
    "tags": []
   },
   "outputs": [],
   "source": [
    "tmp_url = 'https://www.google.com/about/careers/applications/jobs/results/113883636985406150-overnight-principal-incident-response-consultant-mandiant-google-cloud'\n",
    "result = requests.get(tmp_url).text\n",
    "doc = BeautifulSoup(result,'html.parser')"
   ]
  },
  {
   "cell_type": "code",
   "execution_count": 405,
   "id": "79f18225-93ab-4751-bb62-8fcbc7d8ba7c",
   "metadata": {
    "tags": []
   },
   "outputs": [
    {
     "data": {
      "text/plain": [
       "True"
      ]
     },
     "execution_count": 405,
     "metadata": {},
     "output_type": "execute_result"
    }
   ],
   "source": [
    "if doc.find_all(class_='RP7SMd')[1].span.text.lower() == 'remote eligible':\n",
    "    remote = True\n",
    "else:\n",
    "    remote = False\n",
    "\n",
    "remote"
   ]
  },
  {
   "cell_type": "code",
   "execution_count": 400,
   "id": "be4a882c-c610-4ecc-bcc1-4613d5e9342e",
   "metadata": {
    "tags": []
   },
   "outputs": [
    {
     "data": {
      "text/plain": [
       "[<span class=\"RP7SMd\"><i aria-hidden=\"true\" class=\"google-material-icons VfPpkd-kBDsod dPX0he\">corporate_fare</i><span>Google</span></span>,\n",
       " <span class=\"RP7SMd\"><i aria-hidden=\"true\" class=\"google-material-icons VfPpkd-kBDsod dPX0he\">laptop_windows</i><span>Remote eligible</span></span>,\n",
       " <span class=\"RP7SMd\"><i aria-hidden=\"true\" class=\"google-material-icons VfPpkd-kBDsod dPX0he\">bar_chart</i><span>Director+</span></span>]"
      ]
     },
     "execution_count": 400,
     "metadata": {},
     "output_type": "execute_result"
    }
   ],
   "source": [
    "doc.find_all(class_='RP7SMd')"
   ]
  },
  {
   "cell_type": "code",
   "execution_count": 437,
   "id": "66e66874-f173-4708-b4fa-1b8fcad38768",
   "metadata": {
    "tags": []
   },
   "outputs": [
    {
     "name": "stderr",
     "output_type": "stream",
     "text": [
      "stuff: 100%|\u001b[38;2;160;32;240m###########################################################################\u001b[0m| 15/15 [00:01<00:00,  9.50it/s]\u001b[0m\n"
     ]
    }
   ],
   "source": [
    "import time\n",
    "\n",
    "for i in tqdm(range(15),desc='stuff',colour='#A020F0',ascii=True):\n",
    "    time.sleep(0.1)"
   ]
  },
  {
   "cell_type": "code",
   "execution_count": 457,
   "id": "b81857ca-0e43-4866-9dbe-7807d53598fb",
   "metadata": {
    "tags": []
   },
   "outputs": [
    {
     "ename": "NameError",
     "evalue": "name 'gob' is not defined",
     "output_type": "error",
     "traceback": [
      "\u001b[1;31m---------------------------------------------------------------------------\u001b[0m",
      "\u001b[1;31mNameError\u001b[0m                                 Traceback (most recent call last)",
      "Cell \u001b[1;32mIn[457], line 1\u001b[0m\n\u001b[1;32m----> 1\u001b[0m dct \u001b[38;5;241m=\u001b[39m {\u001b[38;5;241m1\u001b[39m:gob,\u001b[38;5;241m5\u001b[39m:bob}\n\u001b[0;32m      2\u001b[0m gob \u001b[38;5;241m=\u001b[39m [\u001b[38;5;241m6\u001b[39m,\u001b[38;5;241m3\u001b[39m]\n\u001b[0;32m      3\u001b[0m bob \u001b[38;5;241m=\u001b[39m [\u001b[38;5;241m3.2\u001b[39m,\u001b[38;5;241m0.1\u001b[39m]\n",
      "\u001b[1;31mNameError\u001b[0m: name 'gob' is not defined"
     ]
    }
   ],
   "source": [
    "\n",
    "dct = {1:gob,5:bob}\n",
    "gob = [6,3]\n",
    "bob = [3.2,0.1]\n",
    "sample = pd.DataFrame(data=dct,columns=[1,5])\n",
    "sample"
   ]
  },
  {
   "cell_type": "code",
   "execution_count": 423,
   "id": "31edb86a-2255-4bb8-a746-1eedc5e27a1d",
   "metadata": {
    "tags": []
   },
   "outputs": [
    {
     "ename": "AttributeError",
     "evalue": "'DataFrame' object has no attribute 'vstack'",
     "output_type": "error",
     "traceback": [
      "\u001b[1;31m---------------------------------------------------------------------------\u001b[0m",
      "\u001b[1;31mAttributeError\u001b[0m                            Traceback (most recent call last)",
      "\u001b[1;32m~\\AppData\\Local\\Temp\\ipykernel_8716\\2885782416.py\u001b[0m in \u001b[0;36m?\u001b[1;34m()\u001b[0m\n\u001b[0;32m      1\u001b[0m \u001b[0mls1\u001b[0m \u001b[1;33m=\u001b[0m \u001b[1;33m[\u001b[0m\u001b[1;36m2\u001b[0m\u001b[1;33m,\u001b[0m\u001b[1;36m6\u001b[0m\u001b[1;33m]\u001b[0m\u001b[1;33m\u001b[0m\u001b[1;33m\u001b[0m\u001b[0m\n\u001b[1;32m----> 2\u001b[1;33m \u001b[0msample\u001b[0m\u001b[1;33m.\u001b[0m\u001b[0mvstack\u001b[0m\u001b[1;33m(\u001b[0m\u001b[1;33m)\u001b[0m\u001b[1;33m\u001b[0m\u001b[1;33m\u001b[0m\u001b[0m\n\u001b[0m",
      "\u001b[1;32m~\\anaconda3\\Lib\\site-packages\\pandas\\core\\generic.py\u001b[0m in \u001b[0;36m?\u001b[1;34m(self, name)\u001b[0m\n\u001b[0;32m   6200\u001b[0m             \u001b[1;32mand\u001b[0m \u001b[0mname\u001b[0m \u001b[1;32mnot\u001b[0m \u001b[1;32min\u001b[0m \u001b[0mself\u001b[0m\u001b[1;33m.\u001b[0m\u001b[0m_accessors\u001b[0m\u001b[1;33m\u001b[0m\u001b[1;33m\u001b[0m\u001b[0m\n\u001b[0;32m   6201\u001b[0m             \u001b[1;32mand\u001b[0m \u001b[0mself\u001b[0m\u001b[1;33m.\u001b[0m\u001b[0m_info_axis\u001b[0m\u001b[1;33m.\u001b[0m\u001b[0m_can_hold_identifiers_and_holds_name\u001b[0m\u001b[1;33m(\u001b[0m\u001b[0mname\u001b[0m\u001b[1;33m)\u001b[0m\u001b[1;33m\u001b[0m\u001b[1;33m\u001b[0m\u001b[0m\n\u001b[0;32m   6202\u001b[0m         ):\n\u001b[0;32m   6203\u001b[0m             \u001b[1;32mreturn\u001b[0m \u001b[0mself\u001b[0m\u001b[1;33m[\u001b[0m\u001b[0mname\u001b[0m\u001b[1;33m]\u001b[0m\u001b[1;33m\u001b[0m\u001b[1;33m\u001b[0m\u001b[0m\n\u001b[1;32m-> 6204\u001b[1;33m         \u001b[1;32mreturn\u001b[0m \u001b[0mobject\u001b[0m\u001b[1;33m.\u001b[0m\u001b[0m__getattribute__\u001b[0m\u001b[1;33m(\u001b[0m\u001b[0mself\u001b[0m\u001b[1;33m,\u001b[0m \u001b[0mname\u001b[0m\u001b[1;33m)\u001b[0m\u001b[1;33m\u001b[0m\u001b[1;33m\u001b[0m\u001b[0m\n\u001b[0m",
      "\u001b[1;31mAttributeError\u001b[0m: 'DataFrame' object has no attribute 'vstack'"
     ]
    }
   ],
   "source": [
    "ls1 = [2,6]\n",
    "pd."
   ]
  },
  {
   "cell_type": "code",
   "execution_count": 531,
   "id": "5518e899-ec70-43b7-aa9b-edf285775860",
   "metadata": {
    "tags": []
   },
   "outputs": [
    {
     "data": {
      "text/html": [
       "<div>\n",
       "<style scoped>\n",
       "    .dataframe tbody tr th:only-of-type {\n",
       "        vertical-align: middle;\n",
       "    }\n",
       "\n",
       "    .dataframe tbody tr th {\n",
       "        vertical-align: top;\n",
       "    }\n",
       "\n",
       "    .dataframe thead th {\n",
       "        text-align: right;\n",
       "    }\n",
       "</style>\n",
       "<table border=\"1\" class=\"dataframe\">\n",
       "  <thead>\n",
       "    <tr style=\"text-align: right;\">\n",
       "      <th></th>\n",
       "      <th>Job Title</th>\n",
       "      <th>Organisation</th>\n",
       "      <th>Location</th>\n",
       "      <th>Experience</th>\n",
       "      <th>Minimum Qualification</th>\n",
       "      <th>Preferred Qualification</th>\n",
       "      <th>Job Description</th>\n",
       "      <th>Responsibilities</th>\n",
       "      <th>URL</th>\n",
       "    </tr>\n",
       "  </thead>\n",
       "  <tbody>\n",
       "  </tbody>\n",
       "</table>\n",
       "</div>"
      ],
      "text/plain": [
       "Empty DataFrame\n",
       "Columns: [Job Title, Organisation, Location, Experience, Minimum Qualification, Preferred Qualification, Job Description, Responsibilities, URL]\n",
       "Index: []"
      ]
     },
     "execution_count": 531,
     "metadata": {},
     "output_type": "execute_result"
    }
   ],
   "source": [
    "col_names = ['Job Title','Organisation','Location','Experience',\n",
    "             'Minimum Qualification','Preferred Qualification',\n",
    "             'Job Description','Responsibilities','URL']\n",
    "\n",
    "google_jobs_df = pd.DataFrame(columns=col_names)\n",
    "google_jobs_df"
   ]
  },
  {
   "cell_type": "code",
   "execution_count": 541,
   "id": "017384d1-2059-49cd-aefe-ee980cdc0447",
   "metadata": {
    "tags": []
   },
   "outputs": [
    {
     "name": "stderr",
     "output_type": "stream",
     "text": [
      "stuff: 100%|\u001b[32m###########################################################################\u001b[0m| 10/10 [00:30<00:00,  3.04s/it]\u001b[0m\n"
     ]
    }
   ],
   "source": [
    "for _ in tqdm(range(10),desc='stuff',colour='green',ascii=True):\n",
    "    job_url = main_url + rel_urls_s[_]\n",
    "    response = requests.get(job_url)\n",
    "    doc = BeautifulSoup(response.text,'html.parser')\n",
    "    \n",
    "    org = []; jbt = []; loc = []; exp = []; mnq = [];\n",
    "    pfq = []; jbd = []; rsp = []; url = [];\n",
    "    \n",
    "    dct = {\n",
    "        'Job Title':jbt,\n",
    "        'Organisation':org,\n",
    "        'Location':loc,\n",
    "        'Experience':exp,\n",
    "        'Minimum Qualification':mnq,\n",
    "        'Preferred Qualification':pfq,\n",
    "        'Job Description':jbd,\n",
    "        'Responsibilities':rsp,\n",
    "        'URL':url\n",
    "    }\n",
    "    # job title\n",
    "    jbt.append(doc.find(class_='p1N2lc').text)\n",
    "    # organisation\n",
    "    org.append(doc.find(class_='RP7SMd').span.text)\n",
    "    # location\n",
    "    loc.append(doc.find(class_='r0wTof').text)\n",
    "    # experience\n",
    "    exp.append(doc.find(class_='wVSTAb').text)\n",
    "    # minimum qualification\n",
    "    mnq.append(doc.find(class_='KwJkGe').find_all('ul')[0].text.replace('\\n',''))\n",
    "    # preferred qualification\n",
    "    pfq.append(doc.find(class_='KwJkGe').find_all('ul')[1].text.replace('\\n',''))\n",
    "    # job description\n",
    "    jbd.append(doc.find(class_='aG5W3').text[17:].replace('\\n',''))\n",
    "    # responsilibities\n",
    "    rsp.append(doc.find(class_='BDNOWe').text[16:].replace('\\n',''))\n",
    "    # job url\n",
    "    url.append(job_url)\n",
    "    \n",
    "    col_names = ['Job Title','Organisation','Location','Experience',\n",
    "             'Minimum Qualification','Preferred Qualification',\n",
    "             'Job Description','Responsibilities','URL']\n",
    "    temp = pd.DataFrame(data=dct,columns=col_names)\n",
    "    \n",
    "    google_jobs_df = pd.concat([google_jobs_df,temp])\n",
    "    google_jobs_df = google_jobs_df.reset_index().drop(columns='index')"
   ]
  },
  {
   "cell_type": "code",
   "execution_count": 571,
   "id": "9108f51e-3e7c-42e8-93b0-68c5761ee4e8",
   "metadata": {
    "tags": []
   },
   "outputs": [
    {
     "name": "stdout",
     "output_type": "stream",
     "text": [
      "🎉🎉🎉🎉🎉\n"
     ]
    }
   ],
   "source": [
    "print(\"\\U0001F389\"*5)"
   ]
  },
  {
   "cell_type": "code",
   "execution_count": 567,
   "id": "8905cb99-7913-4638-a001-c6760d50d270",
   "metadata": {
    "tags": []
   },
   "outputs": [
    {
     "name": "stdout",
     "output_type": "stream",
     "text": [
      "😃\n"
     ]
    }
   ],
   "source": [
    "print(\"\\U0001F603\")"
   ]
  },
  {
   "cell_type": "code",
   "execution_count": 579,
   "id": "2d85d1cd-ee11-4762-ae47-6a742a1649b9",
   "metadata": {
    "tags": []
   },
   "outputs": [
    {
     "name": "stdout",
     "output_type": "stream",
     "text": [
      "Mission Complete 🎉🎉🎉🎉🎉\n"
     ]
    }
   ],
   "source": [
    "print('Mission Complete '+'\\U0001F389'*5)"
   ]
  },
  {
   "cell_type": "code",
   "execution_count": 431,
   "id": "d8abc5d2-823f-4615-9a17-e00ea870f60d",
   "metadata": {},
   "outputs": [],
   "source": [
    "col_names = ['Job Title','Organisation','Location','Experience',\n",
    "             'Remote Work','Minimum Qualification',\n",
    "             'Preferred Qualification','Job Description',\n",
    "             'Responsibilities','URL']\n",
    "\n",
    "google_jobs_df = pd.DataFrame(columns=col_names)"
   ]
  }
 ],
 "metadata": {
  "kernelspec": {
   "display_name": "Python 3 (ipykernel)",
   "language": "python",
   "name": "python3"
  },
  "language_info": {
   "codemirror_mode": {
    "name": "ipython",
    "version": 3
   },
   "file_extension": ".py",
   "mimetype": "text/x-python",
   "name": "python",
   "nbconvert_exporter": "python",
   "pygments_lexer": "ipython3",
   "version": "3.11.7"
  }
 },
 "nbformat": 4,
 "nbformat_minor": 5
}
